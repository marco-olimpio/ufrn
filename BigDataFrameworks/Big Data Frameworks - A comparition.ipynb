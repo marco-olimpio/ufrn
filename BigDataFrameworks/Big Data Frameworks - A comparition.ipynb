{
 "cells": [
  {
   "cell_type": "markdown",
   "metadata": {},
   "source": [
    "# Big Data Frameworks\n",
    "## A comparition between Hadoop, Apache Spark, Apache Flink, Apache Storm and Apache Sazam\n",
    "---\n",
    "**Author:** Marco Olimpio - marco.olimpio at gmail\n",
    "\n",
    "**Objetives:** The purpose of this notebook is to make a comparition between Hadoop, Apache Spark, Apache Flink, Apache Storm and Apache Sazam frameworks. Given that these technologies for 'Big Data'are meant to make more than one think (like Spark) we will considerate mode than one scenario for the comparition like streaming processing, machine learning implementations and so on.\n",
    "\n",
    "\n",
    "**Content:**\n",
    "1. [Hadoop](#hadoop)\n",
    "2. [Apache Spark](#spark)\n",
    "3. [Apache Flink](#flink)\n",
    "4. [Apache Storm](#storm)\n",
    "5. [Apache Sazam](#sazam)\n",
    "6. [Comparitions](#comparitions)\n",
    "    1. [MapReduce and Spark](#mapreduce)\n",
    "    2. [Streaming Processing](#streaming)\n",
    "    3. [Implementation](#code)\n",
    "    4. [Best suited for...](#bestuse)\n",
    "7. [Conclusions](#conclusions)\n",
    "8. [References](#references)\n",
    "\n",
    "Apache Kafka\n",
    "Apache Apex\n"
   ]
  },
  {
   "cell_type": "markdown",
   "metadata": {},
   "source": [
    "<a href=\"hadoop\"></a>\n",
    "## 1. Hadoop\n",
    "---\n",
    "\n"
   ]
  },
  {
   "cell_type": "markdown",
   "metadata": {},
   "source": [
    "<a href=\"spark\"></a>\n",
    "## 2. Apache Spark\n",
    "---"
   ]
  },
  {
   "cell_type": "markdown",
   "metadata": {},
   "source": [
    "<a href=\"flink\"></a>\n",
    "## 3. Apache Flink\n",
    "---"
   ]
  },
  {
   "cell_type": "markdown",
   "metadata": {},
   "source": [
    "<a href=\"storm\"></a>\n",
    "## 4. Apache Storm\n",
    "---"
   ]
  },
  {
   "cell_type": "markdown",
   "metadata": {},
   "source": [
    "<a href=\"sazam\"></a>\n",
    "## 5. Apache Sazam\n",
    "---"
   ]
  },
  {
   "cell_type": "markdown",
   "metadata": {},
   "source": [
    "<a href=\"simulations\"></a>\n",
    "## 6. Simulations\n",
    "---"
   ]
  },
  {
   "cell_type": "markdown",
   "metadata": {},
   "source": [
    "<a href=\"compare\"></a>\n",
    "## 7. Comparitions\n",
    "---"
   ]
  },
  {
   "cell_type": "markdown",
   "metadata": {},
   "source": [
    "<a href=\"conclusions\"></a>\n",
    "## 8. Conclusions\n",
    "---"
   ]
  },
  {
   "cell_type": "markdown",
   "metadata": {},
   "source": [
    "<a href=\"references\"></a>\n",
    "## 9. References\n",
    "---\n",
    "\n",
    "- Streams\n",
    "    - https://developer.twitter.com/en/docs\n",
    "    - Apache Kafka\n",
    "    - https://ci.apache.org/projects/flink/flink-docs-release-1.3/\n",
    "    - https://www.digitalocean.com/community/tutorials/hadoop-storm-samza-spark-and-flink-big-data-frameworks-compared\n",
    "- Misc.    \n",
    "    - https://www.cloudera.com/more/news-and-blogs/press-releases/2016-11-07-apache-spark-survey-reveals-increased-growth-in-users-and-new-workloads.html\n"
   ]
  }
 ],
 "metadata": {
  "kernelspec": {
   "display_name": "Python 3",
   "language": "python",
   "name": "python3"
  },
  "language_info": {
   "codemirror_mode": {
    "name": "ipython",
    "version": 3
   },
   "file_extension": ".py",
   "mimetype": "text/x-python",
   "name": "python",
   "nbconvert_exporter": "python",
   "pygments_lexer": "ipython3",
   "version": "3.6.3"
  }
 },
 "nbformat": 4,
 "nbformat_minor": 2
}
