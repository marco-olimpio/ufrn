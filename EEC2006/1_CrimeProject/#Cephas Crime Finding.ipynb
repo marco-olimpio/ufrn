{
 "cells": [
  {
   "cell_type": "code",
   "execution_count": 158,
   "metadata": {
    "collapsed": true
   },
   "outputs": [],
   "source": [
    "import pandas as pd\n",
    "import numpy  as np\n",
    "import matplotlib.pyplot as plt\n",
    "from numpy import arange\n",
    "import operator\n",
    "import json"
   ]
  },
  {
   "cell_type": "code",
   "execution_count": 148,
   "metadata": {
    "collapsed": true
   },
   "outputs": [],
   "source": [
    "#FUNCTIONS - Calcs\n",
    "\n",
    "def make_word_map(crime_types, words):\n",
    "    dic = {}\n",
    "    for word in words:\n",
    "        dic[word] = {}\n",
    "    for word in words:\n",
    "        for ct in crime_types:\n",
    "            if word in ct:\n",
    "                for w in words:\n",
    "                    if ((w in ct) and  (w != word)):\n",
    "                        if w not in dic[word]:\n",
    "                            dic[word][w] = 1\n",
    "                        else:\n",
    "                            dic[word][w] += 1\n",
    "    #clean empty itens\n",
    "    for w in words:\n",
    "        if dic[w] == {}:\n",
    "            del dic[w]\n",
    "    return dic\n",
    "\n",
    "#return dictionary of crime types - the type is equals to writed in original data\n",
    "#dictionary key(type), value(value of it type)\n",
    "def count_crimes(data):\n",
    "    dic = {}\n",
    "    for crime in data:\n",
    "        if crime not in dic:\n",
    "            dic[crime] = 1\n",
    "        else:\n",
    "            dic[crime] += 1\n",
    "    sorted_dic = {}\n",
    "    sorted_dic = sorted(dic.items(), key=operator.itemgetter(1), reverse = True)\n",
    "    return sorted_dic\n",
    "\n",
    "def take_words_from_types(data):\n",
    "    new_data = []\n",
    "    for j in data:\n",
    "        for i in j:\n",
    "            new_data.append(i.strip())\n",
    "    return set(new_data)\n",
    "\n",
    "def map_of_crime(word, word_map):\n",
    "    new_data = {}\n",
    "    for key, value in word_map.items():\n",
    "        if word in key:\n",
    "            new_data[key] = value\n",
    "    return new_data"
   ]
  },
  {
   "cell_type": "code",
   "execution_count": 121,
   "metadata": {},
   "outputs": [],
   "source": [
    "#FUNCTIONS - CHARTS\n",
    "\n",
    "def line_chart_time (dates):\n",
    "    \n",
    "    to_make = []\n",
    "    #getting hours count\n",
    "    hours = dates.dt.hour.value_counts().sort_index()\n",
    "    #Getting days on week, month and year count\n",
    "    days_of_week = dates.dt.dayofweek.value_counts().sort_index()\n",
    "    dates_of_month = dates.dt.day.value_counts().sort_index()\n",
    "    days_of_year = dates.dt.dayofyear.value_counts().sort_index()\n",
    "    #Getting month count\n",
    "    months = dates.dt.month.value_counts().sort_index()\n",
    "    #Getting year count\n",
    "    years = dates.dt.year.value_counts().sort_index()\n",
    "    \n",
    "    to_make.append(hours)\n",
    "    to_make.append(days_of_week)\n",
    "    to_make.append(dates_of_month)\n",
    "    to_make.append(days_of_year)\n",
    "    to_make.append(months)\n",
    "    to_make.append(years)\n",
    "    \n",
    "    fig, axs = plt.subplots(6,1)\n",
    "    fig.set_size_inches(14,14)\n",
    "    fig.subplots_adjust(hspace=0.8)\n",
    "    \n",
    "    to_make[0].plot(kind='line',rot=90 ,ax=axs[0], title='Hours  - Totals')\n",
    "    to_make[1].plot(kind='line',rot=90 ,ax=axs[1], title='Days of week  - Totals')\n",
    "    to_make[2].plot(kind='line',rot=90 ,ax=axs[2], title='Dates of Month  - Totals')\n",
    "    to_make[3].plot(kind='line',rot=90 ,ax=axs[3], title='Days of year  - Totals')\n",
    "    to_make[4].plot(kind='line',rot=90 ,ax=axs[4], title='Months  - Totals')\n",
    "    to_make[5].plot(kind='bar',rot=90 ,ax=axs[5], title='Years  - Totals')\n",
    "    \n",
    "    plt.plot()\n",
    "    "
   ]
  },
  {
   "cell_type": "code",
   "execution_count": null,
   "metadata": {
    "scrolled": false
   },
   "outputs": [],
   "source": [
    "crimes = pd.read_csv(\"MontgomeryCountyCrime2013.csv\")\n",
    "\n",
    "#Getting Timestamp of dispatch\n",
    "dates = pd.to_datetime(crimes[\"Dispatch Date / Time\"])\n",
    "\n",
    "line_chart_time(dates)"
   ]
  },
  {
   "cell_type": "code",
   "execution_count": null,
   "metadata": {
    "scrolled": true
   },
   "outputs": [],
   "source": [
    "#clean spaces from crime classes\n",
    "crimes[\"Class Description\"] = crimes[\"Class Description\"].map(lambda x: x.strip())\n",
    "\n",
    "#set all to lower case\n",
    "crimes[\"Class Description\"] = crimes[\"Class Description\"].str.lower()\n",
    "\n",
    "#take crime types\n",
    "types = crimes[\"Class Description\"]\n",
    "#count crime types\n",
    "crime_counted = count_crimes(types)\n",
    "\n",
    "#take the words that are used to describe crimes\n",
    "words_base = crimes[\"Class Description\"].str.split('-')\n",
    "words = take_words_from_types(words_base)\n",
    "\n",
    "#Build a mapping of words(in types) inter relationed\n",
    "\n",
    "word_map = make_word_map(types, words)\n",
    "word_map"
   ]
  },
  {
   "cell_type": "code",
   "execution_count": 162,
   "metadata": {},
   "outputs": [
    {
     "name": "stdout",
     "output_type": "stream",
     "text": [
      "{\n",
      "   \"manu\": {\n",
      "      \"manu inhalant/glue/aerosol\": 2,\n",
      "      \"cds\": 25,\n",
      "      \"marijuana/hashish\": 18,\n",
      "      \"manu drug overdose not fatal\": 1,\n",
      "      \"synth demerol/methado\": 2,\n",
      "      \"synth demerol/meth\": 2,\n",
      "      \"halluc/lsd/pcp/etc\": 2,\n",
      "      \"halluc/lsd/pcp/et\": 2\n",
      "   },\n",
      "   \"manu drug overdose not fatal\": {\n",
      "      \"manu\": 1,\n",
      "      \"cds\": 1\n",
      "   },\n",
      "   \"manu inhalant/glue/aerosol\": {\n",
      "      \"manu\": 2,\n",
      "      \"cds\": 2\n",
      "   }\n",
      "}\n"
     ]
    }
   ],
   "source": [
    "#type one word and get the crime map that is related with it or contais this word in the middle\n",
    "word_typed = 'man'\n",
    "mapa_larceny = map_of_crime(word_typed, word_map)\n",
    "\n",
    "print(json.dumps(mapa_larceny, indent=3))"
   ]
  }
 ],
 "metadata": {
  "kernelspec": {
   "display_name": "Python 3",
   "language": "python",
   "name": "python3"
  },
  "language_info": {
   "codemirror_mode": {
    "name": "ipython",
    "version": 3
   },
   "file_extension": ".py",
   "mimetype": "text/x-python",
   "name": "python",
   "nbconvert_exporter": "python",
   "pygments_lexer": "ipython3",
   "version": "3.6.1"
  }
 },
 "nbformat": 4,
 "nbformat_minor": 2
}
