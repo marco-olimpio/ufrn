{
 "cells": [
  {
   "cell_type": "markdown",
   "metadata": {
    "collapsed": true
   },
   "source": [
    "Places selected from varous neiborhoods:\n",
    "    -5.8323, -35.2054 - Instituto Metrópole Digital\n",
    "\t<ul>\n",
    "\t\t<li>Pitimbu: -5.876271, -35.224500 - vita</li>\n",
    "\t\t<li>Planalto: -5.858102, -35.251586 - avenida principal</li>\n",
    "\t\t<li>Ponta Negra: -5.877522, -35.176073 - woods</li>\n",
    "\t\t<li>Neópolis: -5.870513, -35.208176 - </li>\n",
    "\t\t<li>Capim Macio: -5.862753, -35.195597 - minha casa</li>\n",
    "\t\t<li>Lagoa Azul: -5.734177, -35.253802 - </li>\n",
    "\t\t<li>Pajuçara: -5.751781, -35.234665 - </li>\n",
    "\t\t<li>Lagoa Seca: -5.809191, -35.209374 - </li>\n",
    "\t\t<li>Barro Vermelho: -5.800741, -35.211056 - casa de mainha</li>\n",
    "\t\t<li>Candelária: -5.841737, -35.210463 - natal shopping</li>\n",
    "\t\t<li>Praia do Meio: -5.779198, -35.197163 - Centro de turismo</li>\n",
    "\t\t<li>Rocas: -5.771832, -35.203091 - mercado modelo</li>\n",
    "\t\t<li>Santos Reis: -5.763226, -35.196786 - forte dos reis magos</li>\n",
    "\t\t<li>Redinha: -5.742772, -35.205806</li>\n",
    "\t\t<li>Salinas: -5.763117, -35.247973</li>\n",
    "\t\t<li>Igapó: -5.769009, -35.254755 - atacadáo</li>\n",
    "\t\t<li>Nossa Senhora da Apresentação: -5.763654, -35.282543 - Hospital Maria Alice</li>\n",
    "\t\t<li>Potengi: -5.758634, -35.247010 - Partage Shopping</li>\n",
    "\t\t<li>Ribeira: -5.774943, -35.205578 - Rua Chile</li>\n",
    "\t\t<li>Cidade Alta: -5.785291, -35.206464 - Rio Branco com Ulisses Caldas</li>\n",
    "\t\t<li>Alecrim: -5.796158, -35.216566 - Perto da rua da feira</li>\n",
    "\t\t<li>Nordeste: -5.796215, -35.245141 - Arquidiocese de Natal</li>\n",
    "\t\t<li>Quintas: -5.797290, -35.226006 - Hosp. Giselda Trigueiro</li>\n",
    "\t\t<li>Bom Pastor: -5.813764, -35.240721 - Av. Lima e Silva com R. Bom Pastor</li>\n",
    "\t\t<li>Dix-Sept Rosado: -5.812036, -35.223915 - Av. Nascimento de Castro perto SAMU</li>\n",
    "\t\t<li>Nossa Senhora de Nazaré: -5.815939, -35.229249 - LIGA</li>\n",
    "\t\t<li>Lagoa Nova: -5.819743, -35.212920 - Prudente perto do Manguai</li>\n",
    "\t\t<li>Mãe Luiza: -5.794771, -35.188619 </li>\n",
    "\t\t<li>Nova Descoberta: -5.824830, -35.200026 - Perto Favorito</li>\n",
    "\t\t<li>Tirol: -5.791699, -35.197358 - Prox. Pink Elephant</li>\n",
    "\t\t<li>Petrópolis: -5.782001, -35.195196 - Tribunal de Contas</li>\n",
    "\t\t<li>Areia Preta: -5.789477, -35.188454 - Letreiro da Cidade de Natal</li>\n",
    "\t\t<li>Cidade Nova: -5.834856, -35.242523 - E.Estadual</li>\n",
    "\t\t<li>Cidade da Esperança: -5.825376, -35.242751 - DETRAN</li>\n",
    "\t\t<li>Felipe Camarão: -5.824374, -35.250070 - Rua Pai Celestial perto Parada de ônibus</li>\n",
    "\t\t<li>Guarapes: -5.841580, -35.274691</li>\n",
    "\t</ul>"
   ]
  },
  {
   "cell_type": "code",
   "execution_count": 13,
   "metadata": {},
   "outputs": [],
   "source": [
    "\n",
    "points_neiborhood = [\n",
    "{\"Pitimbu\":[-5.876271, -35.224500]},\n",
    "{\"Planalto\":[-5.858102, -35.251586]},\n",
    "{\"Ponta Negra\":[-5.877522, -35.176073]},\n",
    "{\"Neópolis\":[-5.870513, -35.208176]},\n",
    "{\"Capim Macio\":[-5.862753, -35.195597]},\n",
    "{\"Lagoa Azul\":[-5.734177, -35.253802]},\n",
    "{\"Pajuçara\":[-5.751781, -35.234665]},\n",
    "{\"Lagoa Seca\":[-5.809191, -35.209374]},\n",
    "{\"Barro Vermelho\":[-5.800741, -35.211056]},\n",
    "{\"Candelária\":[-5.841737, -35.210463]},\n",
    "{\"Praia do Meio\":[-5.779198, -35.197163]},\n",
    "{\"Rocas\":[-5.771832, -35.203091]},\n",
    "{\"Santos Reis\":[-5.763226, -35.196786]},\n",
    "{\"Redinha\":[-5.742772, -35.205806]},\n",
    "{\"Salinas\":[-5.763117, -35.247973]},\n",
    "{\"Igapó\":[-5.769009, -35.254755]},\n",
    "{\"Nossa Senhora da Apresentação\":[-5.763654, -35.282543]},\n",
    "{\"Potengi\":[-5.758634, -35.247010]},\n",
    "{\"Ribeira\":[-5.774943, -35.205578]},\n",
    "{\"Cidade Alta\":[-5.785291, -35.206464]},\n",
    "{\"Alecrim\":[-5.796158, -35.216566]},\n",
    "{\"Nordeste\":[-5.796215, -35.245141]},\n",
    "{\"Quintas\":[-5.797290, -35.226006]},\n",
    "{\"Bom Pastor\":[-5.813764, -35.240721]},\n",
    "{\"Dix-Sept Rosado\":[-5.812036, -35.223915]},\n",
    "{\"Nossa Senhora de Nazaré\":[-5.815939, -35.229249]},\n",
    "{\"Lagoa Nova\":[-5.819743, -35.212920]},\n",
    "{\"Mãe Luiza\":[-5.794771, -35.188619 ]},\n",
    "{\"Nova Descoberta\":[-5.824830, -35.200026]},\n",
    "{\"Tirol\":[-5.791699, -35.197358]},\n",
    "{\"Petrópolis\":[-5.782001, -35.195196]},\n",
    "{\"Areia Preta\":[-5.789477, -35.188454]},\n",
    "{\"Cidade Nova\":[-5.834856, -35.242523]},\n",
    "{\"Cidade da Esperança\":[-5.825376, -35.242751]},\n",
    "{\"Felipe Camarão\":[-5.824374, -35.250070]},\n",
    "{\"Guarapes\":[-5.841580, -35.274691]}\n",
    "]"
   ]
  },
  {
   "cell_type": "code",
   "execution_count": 1,
   "metadata": {},
   "outputs": [
    {
     "name": "stdout",
     "output_type": "stream",
     "text": [
      "This prints once a minute.\n",
      "This prints once a minute.\n",
      "This prints once a minute.\n",
      "This prints once a minute.\n",
      "This prints once a minute.\n"
     ]
    }
   ],
   "source": [
    "import time\n",
    "count = 0\n",
    "while True and count<5:\n",
    "    print(\"This prints once a minute.\")\n",
    "    time.sleep(10)\n",
    "    count = count + 1"
   ]
  },
  {
   "cell_type": "code",
   "execution_count": 1,
   "metadata": {},
   "outputs": [],
   "source": [
    "#!conda install psycopg2 --yes"
   ]
  },
  {
   "cell_type": "code",
   "execution_count": 2,
   "metadata": {},
   "outputs": [],
   "source": [
    "import psycopg2 as pg\n",
    "import psycopg2.extras as pgextras"
   ]
  },
  {
   "cell_type": "code",
   "execution_count": 7,
   "metadata": {},
   "outputs": [],
   "source": [
    "con = pg.connect(\"dbname='geral' user='postgres' host='localhost' password='13054343'\")"
   ]
  },
  {
   "cell_type": "code",
   "execution_count": 8,
   "metadata": {},
   "outputs": [
    {
     "ename": "AttributeError",
     "evalue": "'psycopg2.extensions.connection' object has no attribute 'execute'",
     "output_type": "error",
     "traceback": [
      "\u001b[0;31m---------------------------------------------------------------------------\u001b[0m",
      "\u001b[0;31mAttributeError\u001b[0m                            Traceback (most recent call last)",
      "\u001b[0;32m<ipython-input-8-e5ed705c0ac9>\u001b[0m in \u001b[0;36m<module>\u001b[0;34m()\u001b[0m\n\u001b[0;32m----> 1\u001b[0;31m \u001b[0mcon\u001b[0m\u001b[0;34m.\u001b[0m\u001b[0mexecute\u001b[0m\u001b[0;34m(\u001b[0m\u001b[0;34m\"INSERT INTO uber (num, data) VALUES (1, 2)\"\u001b[0m\u001b[0;34m)\u001b[0m\u001b[0;34m\u001b[0m\u001b[0m\n\u001b[0m",
      "\u001b[0;31mAttributeError\u001b[0m: 'psycopg2.extensions.connection' object has no attribute 'execute'"
     ]
    }
   ],
   "source": [
    "con.execute(\"INSERT INTO uber (num, data) VALUES (1, 2)\")"
   ]
  },
  {
   "cell_type": "code",
   "execution_count": null,
   "metadata": {
    "collapsed": true
   },
   "outputs": [],
   "source": []
  }
 ],
 "metadata": {
  "kernelspec": {
   "display_name": "Python 3",
   "language": "python",
   "name": "python3"
  },
  "language_info": {
   "codemirror_mode": {
    "name": "ipython",
    "version": 3
   },
   "file_extension": ".py",
   "mimetype": "text/x-python",
   "name": "python",
   "nbconvert_exporter": "python",
   "pygments_lexer": "ipython3",
   "version": "3.6.0"
  }
 },
 "nbformat": 4,
 "nbformat_minor": 2
}
