{
 "cells": [
  {
   "cell_type": "code",
   "execution_count": 2,
   "metadata": {
    "collapsed": true
   },
   "outputs": [],
   "source": [
    "\n",
    "import json\n",
    "\n",
    "from urllib.request import urlopen\n",
    "from datetime import date\n",
    "\n",
    "import re\n",
    "import requests\n",
    "import urllib\n",
    "from bs4 import BeautifulSoup as bs"
   ]
  },
  {
   "cell_type": "code",
   "execution_count": 33,
   "metadata": {},
   "outputs": [
    {
     "name": "stdout",
     "output_type": "stream",
     "text": [
      "4\n",
      "['178****', 'PROFESSOR DO MAGISTERIO SUPERIOR', '6', '', '', '602', 'DEPARTAMENTO DE FARMACIA', 'UNIVERSIDADE FED. DO RIO GRANDE DO NORTE', 'REGIME JURIDICO UNICO', 'ATIVO PERMANENTE', 'NÃO', 'DEDICACAO EXCLUSIVA', '01/03/2013', '', '', '24/01/2014', 'PORTARIA', '757', '07/04/2010', 0, 0, 0, 0, 0, 'MINISTERIO DA EDUCACAO', 0, 'http://www.portaldatransparencia.gov.br/servidores/Servidor-DetalhaRemuneracao.asp?Op=2&IdServidor=1857068&CodOrgao=26243&CodOS=15000&bInformacaoFinanceira=True']\n",
      "    L2 OK\n"
     ]
    },
    {
     "name": "stderr",
     "output_type": "stream",
     "text": [
      "/Users/marco/anaconda/lib/python3.6/site-packages/bs4/__init__.py:181: UserWarning: No parser was explicitly specified, so I'm using the best available HTML parser for this system (\"lxml\"). This usually isn't a problem, but if you run this code on another system, or in a different virtual environment, it may use a different parser and behave differently.\n",
      "\n",
      "The code that caused this warning is on line 193 of the file /Users/marco/anaconda/lib/python3.6/runpy.py. To get rid of this warning, change code that looks like this:\n",
      "\n",
      " BeautifulSoup([your markup])\n",
      "\n",
      "to this:\n",
      "\n",
      " BeautifulSoup([your markup], \"lxml\")\n",
      "\n",
      "  markup_type=markup_type))\n"
     ]
    }
   ],
   "source": [
    "employee_enrollment = 0\n",
    "employee_responsability = 0\n",
    "employee_responsability_class = 0\n",
    "employee_responsability_pattern = 0\n",
    "employee_responsability_reference = 0\n",
    "employee_responsability_level = 0\n",
    "employee_UF = 0\n",
    "employee_UORG = 0\n",
    "employee_legal_regime = 0\n",
    "employee_activit = 0\n",
    "employee_absence_from_work = 0\n",
    "employee_work_time = 0\n",
    "employee_last_job_responsability_modification_date = 0\n",
    "employee_job_responsability_nominee_date = 0\n",
    "employee_job_responsability_nominee_act = 0\n",
    "employee_last_job_responsability_modification_date_body = 0\n",
    "employee_entrance_public_service_legal_document = 0\n",
    "employee_entrance_public_service_legal_document_number  = 0\n",
    "employee_entrance_public_service_legal_document_date = 0\n",
    "responsability_description = 0\n",
    "responsability_activity = 0\n",
    "responsability_activity_parcial = 0\n",
    "responsability_UF = 0\n",
    "responsability_UORG = 0\n",
    "responsability_last_data_change_resp = 0\n",
    "\n",
    "r = requests.post(url)\n",
    "s = bs(r.content,\"html\")\n",
    "\n",
    "#First part - retrive\n",
    "print(len(s.find_all('table')))\n",
    "if len(s.find_all('table')) <=4:\n",
    "    rows = s.find_all('table')[1].find_all('tr')\n",
    "\n",
    "    employee_enrollment                                     = rows[2].findAll('td')[1].get_text(strip=True)\n",
    "    employee_responsability                                 = rows[3].findAll('td')[1].get_text(strip=True)\n",
    "    employee_responsability_class                           = rows[4].findAll('td')[1].get_text(strip=True)\n",
    "    employee_responsability_pattern                         = rows[5].findAll('td')[1].get_text(strip=True)\n",
    "    employee_responsability_reference                       = rows[6].findAll('td')[1].get_text(strip=True)\n",
    "    employee_responsability_level                           = rows[7].findAll('td')[1].get_text(strip=True)\n",
    "\n",
    "    employee_UF                                             = rows[9].findAll('td')[1].get_text(strip=True)\n",
    "    employee_UORG                                           = rows[10].findAll('td')[1].get_text(strip=True)\n",
    "\n",
    "    employee_legal_regime                                   = rows[17].findAll('td')[1].get_text(strip=True)\n",
    "    employee_activit                                        = rows[18].findAll('td')[1].get_text(strip=True)\n",
    "    employee_absence_from_work                              = rows[19].findAll('td')[1].get_text(strip=True)\n",
    "    employee_work_time                                      = rows[20].findAll('td')[1].get_text(strip=True)\n",
    "\n",
    "    employee_last_job_responsability_modification_date      = rows[21].findAll('td')[1].get_text(strip=True)\n",
    "    employee_job_responsability_nominee_date                = rows[22].findAll('td')[1].get_text(strip=True)\n",
    "    employee_job_responsability_nominee_act                 = rows[23].findAll('td')[1].get_text(strip=True)\n",
    "    employee_last_job_responsability_modification_date_body = rows[24].findAll('td')[1].get_text(strip=True)\n",
    "\n",
    "    employee_entrance_public_service_legal_document        = rows[27].findAll('td')[1].get_text(strip=True)\n",
    "    employee_entrance_public_service_legal_document_number = rows[28].findAll('td')[1].get_text(strip=True)\n",
    "    employee_entrance_public_service_legal_document_date   = rows[29].findAll('td')[1].get_text(strip=True)\n",
    "else:\n",
    "    #Employee\n",
    "    rows = s.find_all('table')[3].find_all('tr')\n",
    "\n",
    "    employee_enrollment                                     = rows[1].findAll('td')[1].get_text(strip=True)\n",
    "    employee_responsability                                 = rows[2].findAll('td')[1].get_text(strip=True)\n",
    "    employee_responsability_class                           = rows[3].findAll('td')[1].get_text(strip=True)\n",
    "    employee_responsability_pattern                         = rows[4].findAll('td')[1].get_text(strip=True)\n",
    "    employee_responsability_reference                       = rows[5].findAll('td')[1].get_text(strip=True)\n",
    "    employee_responsability_level                           = rows[6].findAll('td')[1].get_text(strip=True)\n",
    "\n",
    "    employee_UF                                             = ''#rows[9].findAll('td')[1].get_text(strip=True)\n",
    "    employee_UORG                                           = rows[8].findAll('td')[1].get_text(strip=True)\n",
    "\n",
    "    employee_legal_regime                                   = rows[16].findAll('td')[1].get_text(strip=True)\n",
    "    employee_activit                                        = rows[17].findAll('td')[1].get_text(strip=True)\n",
    "    employee_absence_from_work                              = rows[18].findAll('td')[1].get_text(strip=True)\n",
    "    employee_work_time                                      = rows[19].findAll('td')[1].get_text(strip=True)\n",
    "\n",
    "    employee_last_job_responsability_modification_date      = rows[20].findAll('td')[1].get_text(strip=True)\n",
    "    employee_job_responsability_nominee_date                = rows[21].findAll('td')[1].get_text(strip=True)\n",
    "    employee_job_responsability_nominee_act                 = rows[22].findAll('td')[1].get_text(strip=True)\n",
    "    employee_last_job_responsability_modification_date_body = rows[23].findAll('td')[1].get_text(strip=True)\n",
    "\n",
    "    employee_entrance_public_service_legal_document        = rows[26].findAll('td')[1].get_text(strip=True)\n",
    "    employee_entrance_public_service_legal_document_number = rows[27].findAll('td')[1].get_text(strip=True)\n",
    "    employee_entrance_public_service_legal_document_date   = rows[28].findAll('td')[1].get_text(strip=True)\n",
    "    \n",
    "    #Responsabilitie\n",
    "    rows = s.find_all('table')[2].find_all('tr')\n",
    "\n",
    "    responsability_description                              = rows[3].findAll('td')[1].get_text(strip=True)\n",
    "    responsability_activity                                 = rows[4].findAll('td')[1].get_text(strip=True)\n",
    "    responsability_activity_parcial                         = rows[6].findAll('td')[1].get_text(strip=True)\n",
    "\n",
    "    responsability_UF                                       = rows[7].findAll('td')[1].get_text(strip=True)\n",
    "    employee_UF = responsability_UF\n",
    "    responsability_UORG                                     = rows[9].findAll('td')[1].get_text(strip=True)\n",
    "    responsability_sup_body                                 = rows[10].findAll('td')[1].get_text(strip=True)\n",
    "\n",
    "    responsability_last_data_change_resp                    = rows[19].findAll('td')[1].get_text(strip=True)\n",
    "\n",
    "    \n",
    "#Second part - retrive link to paycheck info and retrieve info about it\n",
    "link = s.findAll(\"a\", { \"title\" : \"Remuneração individual do servidor\" })\n",
    "url_level_three = 'http://www.portaldatransparencia.gov.br' + link[0].get('href')\n",
    "print([employee_enrollment, employee_responsability, employee_responsability_class, employee_responsability_pattern, employee_responsability_reference, employee_responsability_level, employee_UF, employee_UORG, employee_legal_regime, employee_activit, employee_absence_from_work, employee_work_time, employee_last_job_responsability_modification_date, employee_job_responsability_nominee_date, employee_job_responsability_nominee_act, employee_last_job_responsability_modification_date_body, employee_entrance_public_service_legal_document, employee_entrance_public_service_legal_document_number , employee_entrance_public_service_legal_document_date, responsability_description, responsability_activity, responsability_activity_parcial, responsability_UF, responsability_UORG, responsability_sup_body, responsability_last_data_change_resp, url_level_three])\n",
    "print(\"    L2 OK\")"
   ]
  },
  {
   "cell_type": "code",
   "execution_count": 55,
   "metadata": {
    "scrolled": true
   },
   "outputs": [
    {
     "name": "stdout",
     "output_type": "stream",
     "text": [
      "2\n",
      "1\n",
      "NO INFORMATION\n",
      "[9, 2017, 0, 0, 0, 0, 0, 0]\n",
      "        L3 OK\n"
     ]
    },
    {
     "name": "stderr",
     "output_type": "stream",
     "text": [
      "/Users/marco/anaconda/lib/python3.6/site-packages/bs4/__init__.py:181: UserWarning: No parser was explicitly specified, so I'm using the best available HTML parser for this system (\"lxml\"). This usually isn't a problem, but if you run this code on another system, or in a different virtual environment, it may use a different parser and behave differently.\n",
      "\n",
      "The code that caused this warning is on line 193 of the file /Users/marco/anaconda/lib/python3.6/runpy.py. To get rid of this warning, change code that looks like this:\n",
      "\n",
      " BeautifulSoup([your markup])\n",
      "\n",
      "to this:\n",
      "\n",
      " BeautifulSoup([your markup], \"lxml\")\n",
      "\n",
      "  markup_type=markup_type))\n"
     ]
    }
   ],
   "source": [
    "\n",
    "#Type 1\n",
    "url = 'http://www.portaldatransparencia.gov.br/servidores/Servidor-DetalhaRemuneracao.asp?Op=2&IdServidor=1354279&CodOrgao=26243&CodOS=15000&bInformacaoFinanceira=True'\n",
    "\n",
    "#Type 2\n",
    "url = 'http://www.portaldatransparencia.gov.br/servidores/Servidor-DetalhaRemuneracao.asp?Op=2&IdServidor=1509612&CodOrgao=26243&CodOS=15000&bInformacaoFinanceira=True'\n",
    "\n",
    "#NO info url\n",
    "url = \"http://www.portaldatransparencia.gov.br/servidores/Servidor-DetalhaRemuneracao.asp?Op=2&IdServidor=1848775&CodOrgao=26243&CodOS=15000&bInformacaoFinanceira=True\"\n",
    "\n",
    "emp_year = 0\n",
    "emp_tot_paycheck = 0\n",
    "emp_event_paycheck = 0\n",
    "emp_13_paycheck = 0\n",
    "emp_paid_vacation = 0\n",
    "emp_other = 0\n",
    "emp_irrf = 0\n",
    "emp_rgps = 0\n",
    "emp_paycheck_after_deduction = 0\n",
    "emp_other_receivings = 0\n",
    "emp_other_deduction = 0\n",
    "month_dict = {'janeiro':1, 'fevereiro':2, 'março':3, 'abril':4, 'maio':5, 'junho':6, 'julho':7, 'agosto':8, 'setembro':9, 'outubro':10, 'novembro':11, 'dezembro':12}\n",
    "\n",
    "r = requests.post(url)\n",
    "s = bs(r.content,\"html\")\n",
    "rows = s.find_all('tbody')[1].find_all('tr')\n",
    "print(len(s.find_all('tbody')))\n",
    "print(len(s.find_all('tbody')[1].find_all('tr')))\n",
    "counterPaycheck = 0\n",
    "emp_month = 9\n",
    "emp_year = 2017\n",
    "if len(s.find_all('tbody')[1].find_all('tr'))<10:\n",
    "    print('NO INFORMATION')\n",
    "    #return [0, 0, 0, 0, 0, 0, 0, 0, 0, 0, 0]\n",
    "else:\n",
    "    \n",
    "    #Remuneração básica bruta\n",
    "    if(len(rows[4].findAll('td')[2].get_text(strip=True))>0):\n",
    "        emp_tot_paycheck = re.sub('[\\.]+','',rows[4].findAll('td')[2].get_text(strip=True))\n",
    "        emp_tot_paycheck = re.sub(',','.',emp_tot_paycheck)\n",
    "    else:\n",
    "        emp_tot_paycheck = 0.00\n",
    "    \n",
    "    if(len(rows[7].findAll('td')[2].get_text(strip=True))>0):\n",
    "            emp_irrf = re.sub('[\\.]+','',rows[7].findAll('td')[2].get_text(strip=True))\n",
    "            emp_irrf = re.sub(',','.',emp_irrf)\n",
    "    else:\n",
    "        emp_irrf = 0.00\n",
    "\n",
    "    if(len(rows[8].findAll('td')[2].get_text(strip=True))>0):\n",
    "        emp_rgps = re.sub('[\\.]+','',rows[8].findAll('td')[2].get_text(strip=True))\n",
    "        emp_rgps = re.sub(',','.',emp_rgps)\n",
    "    else:\n",
    "        emp_rgps = 0.00\n",
    "    \n",
    "    if len(s.find_all('tbody')[1].find_all('tr'))==21:\n",
    "\n",
    "        if(len(rows[11].findAll('td')[2].get_text(strip=True))>0):\n",
    "            emp_other_deduction = re.sub('[\\.]+','',rows[11].findAll('td')[2].get_text(strip=True))\n",
    "            emp_other_deduction = re.sub(',','.',emp_other_deduction)\n",
    "        else:\n",
    "            emp_rgps = 0.00\n",
    "\n",
    "        if(len(rows[13].findAll('td')[1].get_text(strip=True))>0):\n",
    "            emp_paycheck_after_deduction = re.sub('[\\.]+','',rows[13].findAll('td')[1].get_text(strip=True))\n",
    "            emp_paycheck_after_deduction = re.sub(',','.',emp_paycheck_after_deduction)\n",
    "        else:\n",
    "            emp_paycheck_after_deduction = 0.00\n",
    "        \n",
    "        if(len(rows[18].findAll('td')[2].get_text(strip=True))>0):\n",
    "            emp_other_receivings = re.sub('[\\.]+','',rows[18].findAll('td')[2].get_text(strip=True))\n",
    "            emp_other_receivings = re.sub(',','.',emp_other_receivings)    \n",
    "        else:\n",
    "            emp_other_receivings = 0.00\n",
    "    \n",
    "    else:\n",
    "        \n",
    "        if(len(rows[10].findAll('td')[1].get_text(strip=True))>0):\n",
    "            emp_paycheck_after_deduction = re.sub('[\\.]+','',rows[10].findAll('td')[1].get_text(strip=True))\n",
    "            emp_paycheck_after_deduction = re.sub(',','.',emp_paycheck_after_deduction)\n",
    "        else:\n",
    "            emp_paycheck_after_deduction = 0.00\n",
    "\n",
    "        if(len(rows[15].findAll('td')[2].get_text(strip=True))>0):\n",
    "            emp_other_receivings = re.sub('[\\.]+','',rows[15].findAll('td')[2].get_text(strip=True))\n",
    "            emp_other_receivings = re.sub(',','.',emp_other_receivings)    \n",
    "        else:\n",
    "            emp_other_receivings = 0.00\n",
    "            \n",
    "print([emp_month, emp_year, emp_tot_paycheck, emp_irrf, emp_rgps, emp_other_deduction, emp_paycheck_after_deduction, emp_other_receivings])\n",
    "print(\"        L3 OK\")"
   ]
  },
  {
   "cell_type": "code",
   "execution_count": 56,
   "metadata": {},
   "outputs": [
    {
     "name": "stdout",
     "output_type": "stream",
     "text": [
      "Collecting pygenderbr\n",
      "  Downloading pygenderbr-0.5.0.tar.gz\n",
      "Collecting pbr>=1.8 (from pygenderbr)\n",
      "  Downloading pbr-3.1.1-py2.py3-none-any.whl (99kB)\n",
      "\u001b[K    100% |████████████████████████████████| 102kB 244kB/s a 0:00:01\n",
      "\u001b[?25hRequirement already satisfied: requests in /Users/marco/anaconda/lib/python3.6/site-packages (from pygenderbr)\n",
      "Requirement already satisfied: pandas in /Users/marco/anaconda/lib/python3.6/site-packages (from pygenderbr)\n",
      "Requirement already satisfied: python-dateutil>=2 in /Users/marco/anaconda/lib/python3.6/site-packages (from pandas->pygenderbr)\n",
      "Requirement already satisfied: pytz>=2011k in /Users/marco/anaconda/lib/python3.6/site-packages (from pandas->pygenderbr)\n",
      "Requirement already satisfied: numpy>=1.7.0 in /Users/marco/anaconda/lib/python3.6/site-packages (from pandas->pygenderbr)\n",
      "Requirement already satisfied: six>=1.5 in /Users/marco/anaconda/lib/python3.6/site-packages (from python-dateutil>=2->pandas->pygenderbr)\n",
      "Building wheels for collected packages: pygenderbr\n",
      "  Running setup.py bdist_wheel for pygenderbr ... \u001b[?25ldone\n",
      "\u001b[?25h  Stored in directory: /Users/marco/Library/Caches/pip/wheels/da/42/3b/113c88561ab2ad0e31d19d3a97fd98eb3d917538222cab0a0b\n",
      "Successfully built pygenderbr\n",
      "Installing collected packages: pbr, pygenderbr\n",
      "Successfully installed pbr-3.1.1 pygenderbr-0.5.0\n"
     ]
    }
   ],
   "source": [
    "!pip install pygenderbr"
   ]
  },
  {
   "cell_type": "code",
   "execution_count": null,
   "metadata": {
    "collapsed": true
   },
   "outputs": [],
   "source": [
    "from pygenderbr import Gender\n",
    "gapi = Gender()\n",
    "g = gapi.getgender('marco')\n",
    "list_names = ['antonio','maria','rebecca','mark','marco']\n",
    "gender_return = gapi.getgender(list_names)\n",
    "gender_return.columns = ['name','gender']"
   ]
  },
  {
   "cell_type": "code",
   "execution_count": 81,
   "metadata": {
    "collapsed": true
   },
   "outputs": [],
   "source": [
    "import numpy as np\n",
    "import pandas as pd"
   ]
  },
  {
   "cell_type": "code",
   "execution_count": 86,
   "metadata": {},
   "outputs": [
    {
     "name": "stdout",
     "output_type": "stream",
     "text": [
      "ERROR: Name parameter should be a string or list of string.\n"
     ]
    }
   ],
   "source": [
    "teste = pd.DataFrame(['marco', 'antonio', 'moriana', 'angelica', 'mark'])\n",
    "teste.columns=['name']\n",
    "teste['name']\n",
    "tesr = gapi.getgender(teste['name'])\n",
    "#teste['gender'] = tesr\n",
    "#genderrr = gapi.getgender()"
   ]
  },
  {
   "cell_type": "code",
   "execution_count": null,
   "metadata": {
    "collapsed": true
   },
   "outputs": [],
   "source": []
  },
  {
   "cell_type": "code",
   "execution_count": 79,
   "metadata": {
    "scrolled": true
   },
   "outputs": [
    {
     "data": {
      "text/plain": [
       "<bound method NDFrame.describe of name\n",
       "antonio    M\n",
       "maria      F\n",
       "rebecca    F\n",
       "mark       M\n",
       "marco      M\n",
       "Name: gender, dtype: object>"
      ]
     },
     "execution_count": 79,
     "metadata": {},
     "output_type": "execute_result"
    }
   ],
   "source": [
    "\n",
    "#gender_return.columns\n",
    "gender_return.describe\n"
   ]
  },
  {
   "cell_type": "markdown",
   "metadata": {},
   "source": [
    "Another library utilized in this work is the https://github.com/mikeengland/gender-detector that has data from US/UK and Argentina and Uruguay."
   ]
  },
  {
   "cell_type": "code",
   "execution_count": 100,
   "metadata": {},
   "outputs": [
    {
     "name": "stdout",
     "output_type": "stream",
     "text": [
      "Fetching package metadata .............\n",
      "Solving package specifications: .\n",
      "\n",
      "Package plan for installation in environment /Users/marco/anaconda:\n",
      "\n",
      "The following packages will be UPDATED:\n",
      "\n",
      "    nose: 1.3.7-py36_1 --> 1.3.7-py36h73fae2b_2\n",
      "\n",
      "nose-1.3.7-py3 100% |################################| Time: 0:00:00 618.64 kB/s\n"
     ]
    }
   ],
   "source": [
    "!conda install nose --yes"
   ]
  },
  {
   "cell_type": "code",
   "execution_count": 110,
   "metadata": {},
   "outputs": [
    {
     "name": "stdout",
     "output_type": "stream",
     "text": [
      "Requirement already satisfied: gender-detector in /Users/marco/anaconda/lib/python3.6/site-packages\r\n"
     ]
    }
   ],
   "source": [
    "!pip install gender-detector"
   ]
  },
  {
   "cell_type": "code",
   "execution_count": 114,
   "metadata": {},
   "outputs": [
    {
     "ename": "ImportError",
     "evalue": "cannot import name 'GenderDetector'",
     "output_type": "error",
     "traceback": [
      "\u001b[0;31m---------------------------------------------------------------------------\u001b[0m",
      "\u001b[0;31mImportError\u001b[0m                               Traceback (most recent call last)",
      "\u001b[0;32m<ipython-input-114-24223d40f0c8>\u001b[0m in \u001b[0;36m<module>\u001b[0;34m()\u001b[0m\n\u001b[0;32m----> 1\u001b[0;31m \u001b[0;32mfrom\u001b[0m \u001b[0mgender_detector\u001b[0m \u001b[0;32mimport\u001b[0m \u001b[0mGenderDetector\u001b[0m\u001b[0;34m\u001b[0m\u001b[0m\n\u001b[0m\u001b[1;32m      2\u001b[0m \u001b[0;31m#import gender_detector as gdetector\u001b[0m\u001b[0;34m\u001b[0m\u001b[0;34m\u001b[0m\u001b[0m\n",
      "\u001b[0;31mImportError\u001b[0m: cannot import name 'GenderDetector'"
     ]
    }
   ],
   "source": [
    "from gender_detector import GenderDetector\n",
    "#import gender_detector as gdetector"
   ]
  },
  {
   "cell_type": "code",
   "execution_count": 103,
   "metadata": {},
   "outputs": [
    {
     "data": {
      "text/plain": [
       "['/Users/marco/anaconda/lib/python3.6/site-packages']"
      ]
     },
     "execution_count": 103,
     "metadata": {},
     "output_type": "execute_result"
    }
   ],
   "source": [
    "import site; site.getsitepackages()"
   ]
  },
  {
   "cell_type": "code",
   "execution_count": 98,
   "metadata": {},
   "outputs": [
    {
     "name": "stdout",
     "output_type": "stream",
     "text": [
      "Gender Detector version 0.1.0\n"
     ]
    },
    {
     "ename": "AttributeError",
     "evalue": "module 'gender_detector' has no attribute 'GenderDetector'",
     "output_type": "error",
     "traceback": [
      "\u001b[0;31m---------------------------------------------------------------------------\u001b[0m",
      "\u001b[0;31mAttributeError\u001b[0m                            Traceback (most recent call last)",
      "\u001b[0;32m<ipython-input-98-b1bdef70c072>\u001b[0m in \u001b[0;36m<module>\u001b[0;34m()\u001b[0m\n\u001b[1;32m      1\u001b[0m \u001b[0;31m#detector = gdetector.version_string\u001b[0m\u001b[0;34m\u001b[0m\u001b[0;34m\u001b[0m\u001b[0m\n\u001b[1;32m      2\u001b[0m \u001b[0mprint\u001b[0m\u001b[0;34m(\u001b[0m\u001b[0mgdetector\u001b[0m\u001b[0;34m.\u001b[0m\u001b[0mversion_string\u001b[0m\u001b[0;34m)\u001b[0m\u001b[0;34m\u001b[0m\u001b[0m\n\u001b[0;32m----> 3\u001b[0;31m \u001b[0mgdetector\u001b[0m\u001b[0;34m.\u001b[0m\u001b[0mGenderDetector\u001b[0m\u001b[0;34m(\u001b[0m\u001b[0;34m'us'\u001b[0m\u001b[0;34m)\u001b[0m \u001b[0;31m# It can also be ar, uk, uy.\u001b[0m\u001b[0;34m\u001b[0m\u001b[0m\n\u001b[0m\u001b[1;32m      4\u001b[0m \u001b[0mdetector\u001b[0m\u001b[0;34m.\u001b[0m\u001b[0mguess\u001b[0m\u001b[0;34m(\u001b[0m\u001b[0;34m'Marcos'\u001b[0m\u001b[0;34m)\u001b[0m \u001b[0;31m# => 'male'\u001b[0m\u001b[0;34m\u001b[0m\u001b[0m\n",
      "\u001b[0;31mAttributeError\u001b[0m: module 'gender_detector' has no attribute 'GenderDetector'"
     ]
    }
   ],
   "source": [
    "detector = \n",
    "\n",
    "gdetector.GenderDetector('us') # It can also be ar, uk, uy.\n",
    "detector.guess('Marcos') # => 'male'"
   ]
  },
  {
   "cell_type": "code",
   "execution_count": 116,
   "metadata": {},
   "outputs": [
    {
     "name": "stdout",
     "output_type": "stream",
     "text": [
      "Collecting normalizr\n",
      "\u001b[31m  Could not find a version that satisfies the requirement normalizr (from versions: )\u001b[0m\n",
      "\u001b[31mNo matching distribution found for normalizr\u001b[0m\n"
     ]
    }
   ],
   "source": [
    "!pip install normalizr"
   ]
  },
  {
   "cell_type": "code",
   "execution_count": 115,
   "metadata": {},
   "outputs": [
    {
     "name": "stdout",
     "output_type": "stream",
     "text": [
      "Collecting genderator\n",
      "  Downloading genderator-0.2.7.9.zip (891kB)\n",
      "\u001b[K    100% |████████████████████████████████| 901kB 1.0MB/s ta 0:00:011\n",
      "\u001b[?25hCollecting normalizr>=0.1.7 (from genderator)\n",
      "\u001b[31m  Could not find a version that satisfies the requirement normalizr>=0.1.7 (from genderator) (from versions: )\u001b[0m\n",
      "\u001b[31mNo matching distribution found for normalizr>=0.1.7 (from genderator)\u001b[0m\n"
     ]
    }
   ],
   "source": [
    "!pip install genderator"
   ]
  },
  {
   "cell_type": "code",
   "execution_count": 117,
   "metadata": {},
   "outputs": [
    {
     "name": "stdout",
     "output_type": "stream",
     "text": [
      "Collecting gender-guesser\n",
      "  Downloading gender_guesser-0.4.0-py2.py3-none-any.whl (379kB)\n",
      "\u001b[K    100% |████████████████████████████████| 389kB 1.4MB/s ta 0:00:01\n",
      "\u001b[?25hInstalling collected packages: gender-guesser\n",
      "Successfully installed gender-guesser-0.4.0\n"
     ]
    }
   ],
   "source": [
    "!pip install gender-guesser"
   ]
  },
  {
   "cell_type": "code",
   "execution_count": 118,
   "metadata": {},
   "outputs": [
    {
     "name": "stdout",
     "output_type": "stream",
     "text": [
      "male\n",
      "female\n",
      "andy\n"
     ]
    }
   ],
   "source": [
    "import gender_guesser.detector as gender\n",
    "d = gender.Detector()\n",
    "print(d.get_gender(u\"Bob\"))\n",
    "\n",
    "print(d.get_gender(u\"Sally\"))\n",
    "\n",
    "print(d.get_gender(u\"Pauley\")) # should be androgynous\n"
   ]
  },
  {
   "cell_type": "code",
   "execution_count": null,
   "metadata": {
    "collapsed": true
   },
   "outputs": [],
   "source": [
    "import genderator"
   ]
  },
  {
   "cell_type": "code",
   "execution_count": null,
   "metadata": {
    "collapsed": true
   },
   "outputs": [],
   "source": [
    "guesser = genderator.Parser()\n",
    "answer = guesser.guess_gender('David Moreno García')\n",
    "if answer:\n",
    "    print(answer)\n",
    "else:\n",
    "    print('Name doesn\\'t match')"
   ]
  },
  {
   "cell_type": "code",
   "execution_count": 119,
   "metadata": {
    "scrolled": true
   },
   "outputs": [
    {
     "name": "stdout",
     "output_type": "stream",
     "text": [
      "Collecting genderizer\n",
      "  Downloading genderizer-0.1.2.3.tar.gz (9.4MB)\n",
      "\u001b[K    100% |████████████████████████████████| 9.4MB 104kB/s ta 0:00:011\n",
      "\u001b[?25hBuilding wheels for collected packages: genderizer\n",
      "  Running setup.py bdist_wheel for genderizer ... \u001b[?25ldone\n",
      "\u001b[?25h  Stored in directory: /Users/marco/Library/Caches/pip/wheels/97/d4/b3/eb70e194976f7c98ef1befbad062ebf600c5522a42ee9da717\n",
      "Successfully built genderizer\n",
      "Installing collected packages: genderizer\n",
      "Successfully installed genderizer-0.1.2.3\n"
     ]
    }
   ],
   "source": [
    "!pip install genderizer"
   ]
  },
  {
   "cell_type": "code",
   "execution_count": 121,
   "metadata": {},
   "outputs": [
    {
     "ename": "ModuleNotFoundError",
     "evalue": "No module named 'naiveBayesClassifier'",
     "output_type": "error",
     "traceback": [
      "\u001b[0;31m---------------------------------------------------------------------------\u001b[0m",
      "\u001b[0;31mModuleNotFoundError\u001b[0m                       Traceback (most recent call last)",
      "\u001b[0;32m<ipython-input-121-c7439d1d9405>\u001b[0m in \u001b[0;36m<module>\u001b[0;34m()\u001b[0m\n\u001b[0;32m----> 1\u001b[0;31m \u001b[0;32mfrom\u001b[0m \u001b[0mgenderizer\u001b[0m\u001b[0;34m.\u001b[0m\u001b[0mgenderizer\u001b[0m \u001b[0;32mimport\u001b[0m \u001b[0mGenderizer\u001b[0m\u001b[0;34m\u001b[0m\u001b[0m\n\u001b[0m",
      "\u001b[0;32m~/anaconda/lib/python3.6/site-packages/genderizer/genderizer.py\u001b[0m in \u001b[0;36m<module>\u001b[0;34m()\u001b[0m\n\u001b[1;32m      3\u001b[0m \u001b[0;32mimport\u001b[0m \u001b[0mmath\u001b[0m\u001b[0;34m\u001b[0m\u001b[0m\n\u001b[1;32m      4\u001b[0m \u001b[0;34m\u001b[0m\u001b[0m\n\u001b[0;32m----> 5\u001b[0;31m \u001b[0;32mfrom\u001b[0m \u001b[0mnaiveBayesClassifier\u001b[0m \u001b[0;32mimport\u001b[0m \u001b[0mtokenizer\u001b[0m\u001b[0;34m\u001b[0m\u001b[0m\n\u001b[0m\u001b[1;32m      6\u001b[0m \u001b[0;32mfrom\u001b[0m \u001b[0mnaiveBayesClassifier\u001b[0m\u001b[0;34m.\u001b[0m\u001b[0mtrainer\u001b[0m \u001b[0;32mimport\u001b[0m \u001b[0mTrainer\u001b[0m\u001b[0;34m\u001b[0m\u001b[0m\n\u001b[1;32m      7\u001b[0m \u001b[0;32mfrom\u001b[0m \u001b[0mnaiveBayesClassifier\u001b[0m\u001b[0;34m.\u001b[0m\u001b[0mclassifier\u001b[0m \u001b[0;32mimport\u001b[0m \u001b[0mClassifier\u001b[0m\u001b[0;34m\u001b[0m\u001b[0m\n",
      "\u001b[0;31mModuleNotFoundError\u001b[0m: No module named 'naiveBayesClassifier'"
     ]
    }
   ],
   "source": [
    "from genderizer.genderizer import Genderizer"
   ]
  },
  {
   "cell_type": "code",
   "execution_count": 120,
   "metadata": {},
   "outputs": [
    {
     "ename": "SyntaxError",
     "evalue": "invalid syntax (<ipython-input-120-4b5b706c6912>, line 3)",
     "output_type": "error",
     "traceback": [
      "\u001b[0;36m  File \u001b[0;32m\"<ipython-input-120-4b5b706c6912>\"\u001b[0;36m, line \u001b[0;32m3\u001b[0m\n\u001b[0;31m    print Genderizer.detect(firstName = 'John')\u001b[0m\n\u001b[0m                   ^\u001b[0m\n\u001b[0;31mSyntaxError\u001b[0m\u001b[0;31m:\u001b[0m invalid syntax\n"
     ]
    }
   ],
   "source": [
    "print Genderizer.detect(firstName = 'John')"
   ]
  },
  {
   "cell_type": "code",
   "execution_count": 122,
   "metadata": {
    "collapsed": true
   },
   "outputs": [],
   "source": [
    "from pygenderbr import Gender"
   ]
  },
  {
   "cell_type": "code",
   "execution_count": 127,
   "metadata": {},
   "outputs": [
    {
     "name": "stdout",
     "output_type": "stream",
     "text": [
      "Male\n"
     ]
    }
   ],
   "source": [
    "g = Gender()\n",
    "\n",
    "gender = g.getgender('Marco', threshold=0.75)\n",
    "#print(gender)\n",
    "if gender[0] == 'M':\n",
    "    nomes_gender = 'Male'\n",
    "print(nomes_gender)\n",
    "#nomes_gender = nomes_gender.append(gender)\n",
    "\n"
   ]
  }
 ],
 "metadata": {
  "kernelspec": {
   "display_name": "Python 3",
   "language": "python",
   "name": "python3"
  },
  "language_info": {
   "codemirror_mode": {
    "name": "ipython",
    "version": 3
   },
   "file_extension": ".py",
   "mimetype": "text/x-python",
   "name": "python",
   "nbconvert_exporter": "python",
   "pygments_lexer": "ipython3",
   "version": "3.6.3"
  }
 },
 "nbformat": 4,
 "nbformat_minor": 2
}
